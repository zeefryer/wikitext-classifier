{
  "nbformat": 4,
  "nbformat_minor": 0,
  "metadata": {
    "colab": {
      "provenance": [],
      "toc_visible": true
    },
    "kernelspec": {
      "name": "python3",
      "display_name": "Python 3"
    },
    "language_info": {
      "name": "python"
    }
  },
  "cells": [
    {
      "cell_type": "markdown",
      "source": [
        "# Intro\n",
        "This notebook outlines the process of training various classifiers on the Wikipedia Talk dataset to classify comments into \"safe\" and \"unsafe\".\n",
        "\n",
        "Included in this notebook are:\n",
        "- initial exploration of the dataset\n",
        "- several simple classifiers trained using `scikit-learn`.\n",
        "- an evaluation of the classifiers across various metrics, in particular metrics designed for imbalanced datasets.\n",
        "\n",
        "Included in the rest of the codebase is:\n",
        "- `dataset_preparation.py`, a script to clean up and preprocess the dataset.\n",
        "- `nn_classifier.py`, a script to train a custom deep learning classifier model based on the RoBERTa backbone.\n",
        "\n",
        "Sadly the one major thing (currently) missing from this repo is a trained deep learning model: the training script works, I just lack the GPU access to train and tune a final model! This will hopefully be rectified soon.\n",
        "\n",
        "## To read/use this notebook\n",
        "You'll need to edit the paths in the first `Setup` cell below to reflect your own system. You may also need to install some libraries (e.g. `jax`, `langdetect`). Other than that, you can either look at the precomputed outputs or run them yourselves -- everything should (in theory!) be reproducible!\n",
        "\n",
        "I've commented out the line that calls the deep learning training loop (in the `Third Classifier` section) just so it isn't run accidentally; feel free to uncomment and run it if you want!\n",
        "\n",
        "## Libraries\n",
        "- dataframes are handled with `polars`. `polars` is a significant improvement on `pandas`: it's faster, has better typing support, offers lazy evaluation out of the box, and is much closer in syntax to `pyspark` than `pandas` is. While either `polars` or `pandas` would work for the scale of the dataset we're considering here, `polars` will scale far better than `pandas` would.\n",
        "- basic classifiers (Naive Bayes etc) are handled by `scikit-learn`. No reason to re-implement the wheel when `sklearn` has done it so well, and while it doesn't easily scale to datasets that don't fit in memory, at that point you probably should be using a more complicated model anyway.\n",
        "- deep learning is handled by `JAX` and `Flax`. `JAX` is essentially numpy with autograd; it's Google's second attempt at writing a deep learning framework and incorporates a lot of what they learned from Tensorflow. It's functional, fast (thanks to just-in-time compilation), and has multi-GPU/TPU support built into it from the start. `Flax` is a library that builds on top of `JAX` and provides some object-oriented structure to abstract away some of the low-level grunt work of deep learning without getting in the way.\n",
        "\n",
        "## Caveats\n",
        "- The final classifier model in this notebook has not been particularly rigorously tuned: this is due to the fact that I don't have plentiful access to compute right now. Hopefully it is clear from the setup and code that a) a more rigorous hyperparameter search could easily be conducted, and b) I know how to do such a search if needed!\n",
        "- With the RoBERTa-based model that I ended up with, yes it would have been far easier to simply import a model with a classifier head from HuggingFace and type `model.train`. However, given that the point of this exercise is to demonstrate that I understand what I'm doing with deep learning, I opted to go for the custom model / custom training loop approach.\n",
        "  - The benefit of this approach is that it scales extremely well: I'm not restricted to the few classifier-head options that HuggingFace provides, and I can swap in a different foundation model with very little additional work.\n",
        "\n",
        "## Possible Future Work\n",
        "- Some simple but time consuming quality of life improvements:\n",
        "  - integrate logging to replace the print statements\n",
        "  - type hinting\n",
        "  - reorganise some of the code: right now it's organised to match the format of this report, whereas in a production setting it would be organised differently (e.g. `nn_classifier.py` would be split into several smaller files!).\n",
        "\n",
        "- More compute would unlock the following:\n",
        "  - experimenting with different and larger foundation models to provide the embeddings (e.g. OPT).\n",
        "  - much more rigorous hyperparameter tuning.\n",
        "\n",
        "- More complex strategies to handle the annotation data:\n",
        "  - e.g. [Dealing with Disagreements: Looking Beyond the Majority Vote in Subjective Annotations\"](https://direct.mit.edu/tacl/article/doi/10.1162/tacl_a_00449/109286/Dealing-with-Disagreements-Looking-Beyond-the), Aida Mostafazadeh Davani et al.\n",
        "  - Aggregating the annotations per sample in a more nuanced way; e.g. the original dataset paper tried averaging annotations per sample and using those as soft labels (that is, if 7/10 annotators identified the comment as unsafe, the target label became [0.7, 0.3]).\n",
        "\n",
        "- More complex strategies to handle the data imbalance:\n",
        "  - I used a very simple weighting strategy to handle the data imbalance in my model; another approach that I've seen work well in the past is to impose sampling quotas on each minibatch (that is, ensure each minibatch is balanced or close to balanced).\n",
        "  - There are also synthetic data options, e.g. generating more samples using an LLM or using techniques such as [SMOTE](https://arxiv.org/abs/1106.1813).\n",
        "\n",
        "- Evaluate the classifier for bias:\n",
        "  - It's well known that classifiers in this field pick up biases from their data; specifically they will tend to disproportionately rate comments referencing marginalized groups as toxic/unsafe/attacks/etc unless this is actively mitigated against.\n",
        "  - I would initially evaluate this using a dataset annotated for both identity demographics and toxicity, e.g. [CivilComments](https://www.tensorflow.org/datasets/catalog/civil_comments#civil_commentscivilcommentsidentities).\n",
        "  - A more refined approach is to use counterfactual probing; that is, check whether the classifier tends to flip its label if you introduce or remove a reference to a marginalized group from the input. See my paper [Flexible text generation for counterfactual fairness probing](https://aclanthology.org/2022.woah-1.20/) for more details on this."
      ],
      "metadata": {
        "id": "LRWSl0Lwji4t"
      }
    },
    {
      "cell_type": "markdown",
      "source": [
        "# Setup"
      ],
      "metadata": {
        "id": "IY44635rXp7E"
      }
    },
    {
      "cell_type": "code",
      "execution_count": null,
      "metadata": {
        "id": "ZPUwXH-OWgxr"
      },
      "outputs": [],
      "source": [
        "import os\n",
        "import sys\n",
        "\n",
        "home_dir = pathlib.Path(os.getenv('HOME'))\n",
        "\n",
        "## edit these two paths as needed\n",
        "path_to_library = '/home/zeef/git/wikitext-classifier'  # location of code\n",
        "root_dir = home_dir.joinpath('temp', 'classifier')  # this is where data, models, etc will be stored\n",
        "\n",
        "sys.path.append(path_to_library)"
      ]
    },
    {
      "cell_type": "code",
      "source": [
        "import functools\n",
        "import pathlib\n",
        "import shutil\n",
        "\n",
        "import polars as pl\n",
        "import polars.selectors as cs\n",
        "import numpy as np\n",
        "\n",
        "import matplotlib.pyplot as plt\n",
        "import seaborn as sns\n",
        "\n",
        "import jax\n",
        "\n",
        "from sklearn.feature_extraction.text import CountVectorizer, TfidfVectorizer\n",
        "from sklearn.naive_bayes import ComplementNB\n",
        "from sklearn.pipeline import Pipeline\n",
        "from sklearn.metrics import ConfusionMatrixDisplay, accuracy_score, balanced_accuracy_score, precision_score, recall_score, f1_score, roc_auc_score\n",
        "from sklearn.linear_model import LogisticRegression\n",
        "\n",
        "import data_utils.utils as utils\n",
        "from data_utils.dataset import TextDataset\n",
        "from nn_classifier import create_roberta_classifier_from_hf"
      ],
      "metadata": {
        "id": "yKMCMfyOW7L2"
      },
      "execution_count": null,
      "outputs": []
    },
    {
      "cell_type": "code",
      "source": [
        "source_data_dir = root_dir.joinpath('source_data')\n",
        "data_dir = root_dir.joinpath('data')\n",
        "model_dir = root_dir.joinpath('models')\n"
      ],
      "metadata": {
        "id": "abmTMfYZXGB7"
      },
      "execution_count": null,
      "outputs": []
    },
    {
      "cell_type": "code",
      "source": [
        "for x in [root_dir, data_dir, model_dir]:\n",
        "  if not x.exists():\n",
        "    x.mkdir()"
      ],
      "metadata": {
        "id": "7pHTKSImXn20"
      },
      "execution_count": null,
      "outputs": []
    },
    {
      "cell_type": "markdown",
      "source": [
        "# Dataset exploration"
      ],
      "metadata": {
        "id": "uR_po-xkXrkk"
      }
    },
    {
      "cell_type": "markdown",
      "source": [
        "## Download the data\n",
        "First step: get the data! I've written a quick function using the `requests` library to handle this.\n",
        "\n",
        "For reference, [here](https://arxiv.org/pdf/1610.08914) is the paper associated to the dataset."
      ],
      "metadata": {
        "id": "Ff7UjJ9wYO-2"
      }
    },
    {
      "cell_type": "code",
      "source": [
        "# make sure we're getting a clean copy of the data\n",
        "if source_data_dir.exists():\n",
        "  shutil.rmtree(source_data_dir)\n",
        "source_data_dir.mkdir()\n",
        "\n",
        "source_data_files = utils.get_wikipedia_talk_data(source_data_dir)\n",
        "\n",
        "dataframes = {}\n",
        "for x in source_data_files:\n",
        "  dataframes[x] = pl.read_csv(source_data_files[x])\n",
        "\n",
        "print(dataframes)"
      ],
      "metadata": {
        "id": "qqneAl54YEBI"
      },
      "execution_count": null,
      "outputs": []
    },
    {
      "cell_type": "markdown",
      "source": [
        "## Explore the comments dataset"
      ],
      "metadata": {
        "id": "xZUGqfFgZyhQ"
      }
    },
    {
      "cell_type": "code",
      "source": [
        "df = dataframes['comments']\n",
        "df.head()"
      ],
      "metadata": {
        "colab": {
          "base_uri": "https://localhost:8080/",
          "height": 255
        },
        "id": "IefQog2MZtui",
        "outputId": "c134836a-357b-4137-8bfb-5ed0d555cedc"
      },
      "execution_count": null,
      "outputs": [
        {
          "output_type": "execute_result",
          "data": {
            "text/plain": [
              "shape: (5, 7)\n",
              "┌────────┬─────────────────────────────────┬──────┬───────────┬─────────┬────────┬───────┐\n",
              "│ rev_id ┆ comment                         ┆ year ┆ logged_in ┆ ns      ┆ sample ┆ split │\n",
              "│ ---    ┆ ---                             ┆ ---  ┆ ---       ┆ ---     ┆ ---    ┆ ---   │\n",
              "│ i64    ┆ str                             ┆ i64  ┆ bool      ┆ str     ┆ str    ┆ str   │\n",
              "╞════════╪═════════════════════════════════╪══════╪═══════════╪═════════╪════════╪═══════╡\n",
              "│ 37675  ┆ `-NEWLINE_TOKENThis is not ``c… ┆ 2002 ┆ false     ┆ article ┆ random ┆ train │\n",
              "│ 44816  ┆ `NEWLINE_TOKENNEWLINE_TOKEN:: … ┆ 2002 ┆ false     ┆ article ┆ random ┆ train │\n",
              "│ 49851  ┆ NEWLINE_TOKENNEWLINE_TOKENTrue… ┆ 2002 ┆ false     ┆ article ┆ random ┆ train │\n",
              "│ 89320  ┆  Next, maybe you could work on… ┆ 2002 ┆ true      ┆ article ┆ random ┆ dev   │\n",
              "│ 93890  ┆ This page will need disambigua… ┆ 2002 ┆ true      ┆ article ┆ random ┆ train │\n",
              "└────────┴─────────────────────────────────┴──────┴───────────┴─────────┴────────┴───────┘"
            ],
            "text/html": [
              "<div><style>\n",
              ".dataframe > thead > tr,\n",
              ".dataframe > tbody > tr {\n",
              "  text-align: right;\n",
              "  white-space: pre-wrap;\n",
              "}\n",
              "</style>\n",
              "<small>shape: (5, 7)</small><table border=\"1\" class=\"dataframe\"><thead><tr><th>rev_id</th><th>comment</th><th>year</th><th>logged_in</th><th>ns</th><th>sample</th><th>split</th></tr><tr><td>i64</td><td>str</td><td>i64</td><td>bool</td><td>str</td><td>str</td><td>str</td></tr></thead><tbody><tr><td>37675</td><td>&quot;`-NEWLINE_TOKENThis is not ``c…</td><td>2002</td><td>false</td><td>&quot;article&quot;</td><td>&quot;random&quot;</td><td>&quot;train&quot;</td></tr><tr><td>44816</td><td>&quot;`NEWLINE_TOKENNEWLINE_TOKEN:: …</td><td>2002</td><td>false</td><td>&quot;article&quot;</td><td>&quot;random&quot;</td><td>&quot;train&quot;</td></tr><tr><td>49851</td><td>&quot;NEWLINE_TOKENNEWLINE_TOKENTrue…</td><td>2002</td><td>false</td><td>&quot;article&quot;</td><td>&quot;random&quot;</td><td>&quot;train&quot;</td></tr><tr><td>89320</td><td>&quot; Next, maybe you could work on…</td><td>2002</td><td>true</td><td>&quot;article&quot;</td><td>&quot;random&quot;</td><td>&quot;dev&quot;</td></tr><tr><td>93890</td><td>&quot;This page will need disambigua…</td><td>2002</td><td>true</td><td>&quot;article&quot;</td><td>&quot;random&quot;</td><td>&quot;train&quot;</td></tr></tbody></table></div>"
            ]
          },
          "metadata": {},
          "execution_count": 21
        }
      ]
    },
    {
      "cell_type": "markdown",
      "source": [
        "According to the paper, we have:\n",
        "- `rev_id`: for joining the comments with the annotations.\n",
        "- `comment`: the raw text of the comment; very little has been done to it so far apart from replacing `\\n` with `NEWLINE_TOKEN`, `\\t` with `TAB_TOKEN`, and `\"` with ``.\n",
        "- `year`: the year the comment was posted.\n",
        "- `logged_in`: whether the comment poster was logged in when they made the comment.\n",
        "- `ns`: namespace, `article` or `user`. This tells us whether the comment was left on on an article or a user discussion page.\n",
        "- `sample`: `random` or `blocked`. The authors constructed the dataset by taking a random sample of comments but noted that the overall prevalance of attacking comments is around 1%, so in order to increase the number of toxic comments they sampled additional comments from users who had been blocked by moderators for violating Wikipedia's policies on personal attacks.\n",
        "- `split`: the authors have kindly already created a train/dev/test split for us.\n",
        "\n",
        "Before using the provided splits, let's doublecheck that they all have reasonably similar distributions:"
      ],
      "metadata": {
        "id": "fWjlulx3aTF3"
      }
    },
    {
      "cell_type": "code",
      "source": [
        "split = 'train'  # replace this with 'dev' or 'test' to see the other splits\n",
        "\n",
        "df_temp = df.filter(pl.col('split') == split)\n",
        "for col in ['year', 'logged_in', 'ns', 'sample']:\n",
        "  print(col)\n",
        "  with pl.Config(tbl_rows = 20):\n",
        "    print(df_temp.select(pl.col(col).value_counts()).unnest(col).with_columns(pl.col('count')/len(df_temp)))"
      ],
      "metadata": {
        "colab": {
          "base_uri": "https://localhost:8080/"
        },
        "id": "6YocxQAHZ74a",
        "outputId": "cf2b5177-f4ac-4ee5-fc2d-0627dd8b572f"
      },
      "execution_count": null,
      "outputs": [
        {
          "output_type": "stream",
          "name": "stdout",
          "text": [
            "year\n",
            "shape: (16, 2)\n",
            "┌──────┬──────────┐\n",
            "│ year ┆ count    │\n",
            "│ ---  ┆ ---      │\n",
            "│ i64  ┆ f64      │\n",
            "╞══════╪══════════╡\n",
            "│ 2008 ┆ 0.144119 │\n",
            "│ 2010 ┆ 0.093318 │\n",
            "│ 2013 ┆ 0.055102 │\n",
            "│ 2005 ┆ 0.04184  │\n",
            "│ 2012 ┆ 0.065774 │\n",
            "│ 2001 ┆ 0.000086 │\n",
            "│ 2009 ┆ 0.10783  │\n",
            "│ 2014 ┆ 0.056727 │\n",
            "│ 2006 ┆ 0.150965 │\n",
            "│ 2015 ┆ 0.058712 │\n",
            "│ 2016 ┆ 0.002646 │\n",
            "│ 2007 ┆ 0.140926 │\n",
            "│ 2002 ┆ 0.000388 │\n",
            "│ 2011 ┆ 0.074979 │\n",
            "│ 2003 ┆ 0.00128  │\n",
            "│ 2004 ┆ 0.005307 │\n",
            "└──────┴──────────┘\n",
            "logged_in\n",
            "shape: (2, 2)\n",
            "┌───────────┬──────────┐\n",
            "│ logged_in ┆ count    │\n",
            "│ ---       ┆ ---      │\n",
            "│ bool      ┆ f64      │\n",
            "╞═══════════╪══════════╡\n",
            "│ false     ┆ 0.268676 │\n",
            "│ true      ┆ 0.731324 │\n",
            "└───────────┴──────────┘\n",
            "ns\n",
            "shape: (2, 2)\n",
            "┌─────────┬──────────┐\n",
            "│ ns      ┆ count    │\n",
            "│ ---     ┆ ---      │\n",
            "│ str     ┆ f64      │\n",
            "╞═════════╪══════════╡\n",
            "│ article ┆ 0.449558 │\n",
            "│ user    ┆ 0.550442 │\n",
            "└─────────┴──────────┘\n",
            "sample\n",
            "shape: (2, 2)\n",
            "┌─────────┬──────────┐\n",
            "│ sample  ┆ count    │\n",
            "│ ---     ┆ ---      │\n",
            "│ str     ┆ f64      │\n",
            "╞═════════╪══════════╡\n",
            "│ random  ┆ 0.310877 │\n",
            "│ blocked ┆ 0.689123 │\n",
            "└─────────┴──────────┘\n"
          ]
        }
      ]
    },
    {
      "cell_type": "markdown",
      "source": [
        "Looks like they did a pretty good job! We'll check again once the annotations have been added to make sure the safe/unsafe split is also consistent.\n",
        "\n",
        "Next, let's have a look at the comment lengths:"
      ],
      "metadata": {
        "id": "xR4jxYJwcpI7"
      }
    },
    {
      "cell_type": "code",
      "source": [
        "df_temp = df.with_columns(pl.col('comment').str.len_chars().alias('comment_length'))\n",
        "comment_length = df_temp.select(pl.col('comment_length'))\n",
        "comment_length.describe()"
      ],
      "metadata": {
        "colab": {
          "base_uri": "https://localhost:8080/",
          "height": 380
        },
        "id": "KXiaR-HEcjLg",
        "outputId": "953a143c-a8a3-441f-e603-e1769d026ec5"
      },
      "execution_count": null,
      "outputs": [
        {
          "output_type": "execute_result",
          "data": {
            "text/plain": [
              "shape: (9, 2)\n",
              "┌────────────┬────────────────┐\n",
              "│ statistic  ┆ comment_length │\n",
              "│ ---        ┆ ---            │\n",
              "│ str        ┆ f64            │\n",
              "╞════════════╪════════════════╡\n",
              "│ count      ┆ 115864.0       │\n",
              "│ null_count ┆ 0.0            │\n",
              "│ mean       ┆ 460.58415      │\n",
              "│ std        ┆ 812.572108     │\n",
              "│ min        ┆ 21.0           │\n",
              "│ 25%        ┆ 122.0          │\n",
              "│ 50%        ┆ 238.0          │\n",
              "│ 75%        ┆ 478.0          │\n",
              "│ max        ┆ 18460.0        │\n",
              "└────────────┴────────────────┘"
            ],
            "text/html": [
              "<div><style>\n",
              ".dataframe > thead > tr,\n",
              ".dataframe > tbody > tr {\n",
              "  text-align: right;\n",
              "  white-space: pre-wrap;\n",
              "}\n",
              "</style>\n",
              "<small>shape: (9, 2)</small><table border=\"1\" class=\"dataframe\"><thead><tr><th>statistic</th><th>comment_length</th></tr><tr><td>str</td><td>f64</td></tr></thead><tbody><tr><td>&quot;count&quot;</td><td>115864.0</td></tr><tr><td>&quot;null_count&quot;</td><td>0.0</td></tr><tr><td>&quot;mean&quot;</td><td>460.58415</td></tr><tr><td>&quot;std&quot;</td><td>812.572108</td></tr><tr><td>&quot;min&quot;</td><td>21.0</td></tr><tr><td>&quot;25%&quot;</td><td>122.0</td></tr><tr><td>&quot;50%&quot;</td><td>238.0</td></tr><tr><td>&quot;75%&quot;</td><td>478.0</td></tr><tr><td>&quot;max&quot;</td><td>18460.0</td></tr></tbody></table></div>"
            ]
          },
          "metadata": {},
          "execution_count": 32
        }
      ]
    },
    {
      "cell_type": "code",
      "source": [
        "sns.histplot(data=comment_length)"
      ],
      "metadata": {
        "colab": {
          "base_uri": "https://localhost:8080/",
          "height": 447
        },
        "id": "cMHFoWMqdBAG",
        "outputId": "bcb43caf-2ccb-4d8f-ff31-c536cc9ac149"
      },
      "execution_count": null,
      "outputs": [
        {
          "output_type": "execute_result",
          "data": {
            "text/plain": [
              "<Axes: ylabel='Count'>"
            ]
          },
          "metadata": {},
          "execution_count": 25
        },
        {
          "output_type": "display_data",
          "data": {
            "text/plain": [
              "<Figure size 640x480 with 1 Axes>"
            ],
            "image/png": "[encoded data removed]"
          },
          "metadata": {}
        }
      ]
    },
    {
      "cell_type": "markdown",
      "source": [
        "The vast majority of the comments come in at 2500 characters or less (even before cleaning!) but there are outliers all the way up to 18k or so.\n",
        "\n",
        "It will probably be worth dropping the really really long comments from the training set: too much risk of losing the signal within the noise: if a mostly-innocuous essay-length comment has one personal attack in it, the entire thing would be labelled as \"attack\".\n",
        "\n",
        "Another reason for dropping long comments from the train set is that when we get to the point of using a foundation model to create embeddings, many of these models have a max input length. Truncating long comments risks cutting off any attacking language from the portion of the comment that the model sees, and we don't have sufficiently fine-grained annotations to chunk the comments.\n",
        "\n",
        "However, we will still need to handle long comments during inference! This is easier: we can chunk the comments, run inference on each chunk, and then combine the predictions somehow (e.g. averaging or majority vote). It's only during training that we would need ground truth labels for each chunk."
      ],
      "metadata": {
        "id": "CbyPEXrZdKmb"
      }
    },
    {
      "cell_type": "markdown",
      "source": [
        "## Explore the annotations dataset"
      ],
      "metadata": {
        "id": "iqh60rHiZ0vI"
      }
    },
    {
      "cell_type": "code",
      "source": [
        "df = dataframes['annotations']\n",
        "df.head()"
      ],
      "metadata": {
        "colab": {
          "base_uri": "https://localhost:8080/",
          "height": 255
        },
        "id": "LXR_hF3tZtrc",
        "outputId": "6413b2ac-5331-4442-ab46-03631063227a"
      },
      "execution_count": null,
      "outputs": [
        {
          "output_type": "execute_result",
          "data": {
            "text/plain": [
              "shape: (5, 7)\n",
              "┌────────┬───────────┬────────────────┬──────────────────┬─────────────────┬──────────────┬────────┐\n",
              "│ rev_id ┆ worker_id ┆ quoting_attack ┆ recipient_attack ┆ third_party_att ┆ other_attack ┆ attack │\n",
              "│ ---    ┆ ---       ┆ ---            ┆ ---              ┆ ack             ┆ ---          ┆ ---    │\n",
              "│ i64    ┆ i64       ┆ f64            ┆ f64              ┆ ---             ┆ f64          ┆ f64    │\n",
              "│        ┆           ┆                ┆                  ┆ f64             ┆              ┆        │\n",
              "╞════════╪═══════════╪════════════════╪══════════════════╪═════════════════╪══════════════╪════════╡\n",
              "│ 37675  ┆ 1362      ┆ 0.0            ┆ 0.0              ┆ 0.0             ┆ 0.0          ┆ 0.0    │\n",
              "│ 37675  ┆ 2408      ┆ 0.0            ┆ 0.0              ┆ 0.0             ┆ 0.0          ┆ 0.0    │\n",
              "│ 37675  ┆ 1493      ┆ 0.0            ┆ 0.0              ┆ 0.0             ┆ 0.0          ┆ 0.0    │\n",
              "│ 37675  ┆ 1439      ┆ 0.0            ┆ 0.0              ┆ 0.0             ┆ 0.0          ┆ 0.0    │\n",
              "│ 37675  ┆ 170       ┆ 0.0            ┆ 0.0              ┆ 0.0             ┆ 0.0          ┆ 0.0    │\n",
              "└────────┴───────────┴────────────────┴──────────────────┴─────────────────┴──────────────┴────────┘"
            ],
            "text/html": [
              "<div><style>\n",
              ".dataframe > thead > tr,\n",
              ".dataframe > tbody > tr {\n",
              "  text-align: right;\n",
              "  white-space: pre-wrap;\n",
              "}\n",
              "</style>\n",
              "<small>shape: (5, 7)</small><table border=\"1\" class=\"dataframe\"><thead><tr><th>rev_id</th><th>worker_id</th><th>quoting_attack</th><th>recipient_attack</th><th>third_party_attack</th><th>other_attack</th><th>attack</th></tr><tr><td>i64</td><td>i64</td><td>f64</td><td>f64</td><td>f64</td><td>f64</td><td>f64</td></tr></thead><tbody><tr><td>37675</td><td>1362</td><td>0.0</td><td>0.0</td><td>0.0</td><td>0.0</td><td>0.0</td></tr><tr><td>37675</td><td>2408</td><td>0.0</td><td>0.0</td><td>0.0</td><td>0.0</td><td>0.0</td></tr><tr><td>37675</td><td>1493</td><td>0.0</td><td>0.0</td><td>0.0</td><td>0.0</td><td>0.0</td></tr><tr><td>37675</td><td>1439</td><td>0.0</td><td>0.0</td><td>0.0</td><td>0.0</td><td>0.0</td></tr><tr><td>37675</td><td>170</td><td>0.0</td><td>0.0</td><td>0.0</td><td>0.0</td><td>0.0</td></tr></tbody></table></div>"
            ]
          },
          "metadata": {},
          "execution_count": 26
        }
      ]
    },
    {
      "cell_type": "markdown",
      "source": [
        "According to the dataset paper, each sample was separately annotated by approximately 10 people, and classified into sub-types such as `recipient_attack` (directly attacking the person the comment is addressed to) or `third_party_attack` (attacking someone else).\n",
        "\n",
        "For our purposes, we only need to categorise the comments into `unsafe` or `safe`, which correspond to \"contains an attack\" and \"doesn't contain an attack\" respectively.\n",
        "\n",
        "We can doublecheck that the `attack` column has already done this consolidation for us:"
      ],
      "metadata": {
        "id": "TXSdN0Oqexff"
      }
    },
    {
      "cell_type": "code",
      "source": [
        "# this expression just checks each row and compares whether the cells ending with '_attack'\n",
        "# have at least one 1.0 in them if and only if the 'attack' cell has a 1.0\n",
        "attack_comparison = (df.select(cs.ends_with('_attack')).sum_horizontal().alias('attack') > 0.0).cast(pl.Float64).to_frame() == df.select(pl.col('attack'))\n",
        "\n",
        "# If the 'attack' column is indeed a correct aggregation of the attack subtypes, then\n",
        "# the sum of 'attack_comparison' should equal the length of the dataframe.\n",
        "len(df) == attack_comparison.select(pl.col('attack').sum()).item()"
      ],
      "metadata": {
        "colab": {
          "base_uri": "https://localhost:8080/"
        },
        "id": "MYgtX0STZtoz",
        "outputId": "997a67be-5c66-4e0d-fe8f-9bc89b96bf7b"
      },
      "execution_count": null,
      "outputs": [
        {
          "output_type": "execute_result",
          "data": {
            "text/plain": [
              "True"
            ]
          },
          "metadata": {},
          "execution_count": 30
        }
      ]
    },
    {
      "cell_type": "markdown",
      "source": [
        "In other words, we can ignore all of the columns apart from `rev_id` (for joining to the comments dataframe) and `attack`, which is essentially our label column.\n",
        "\n",
        "A deeper analysis could also make use of the `worker_id` column -- the dataset also provides demographics and stats on each annotator, and there has been some interesting research (see intro) on whether we can use this information to identify \"reliable\" annotators. These annotators were sourced on Amazon MTurk, which is notoriously unreliable as an annotation source these days, but this deeper analysis is out of scope for this initial exploration."
      ],
      "metadata": {
        "id": "KLhfrRpLgSSB"
      }
    },
    {
      "cell_type": "markdown",
      "source": [
        "# Dataset cleanup and preprocessing\n",
        "\n",
        "Based on the above, we can make some preliminary decisions:\n",
        "\n",
        "- Tempting though it is to use the additional features in the `comments` dataframe (e.g. `ns` would probably be a pretty good signal for identifying toxic comments!), this would produce a classifier that could not generalise to non-Wikipedia sources. For the purposes of creating a general-use classifier, we'll stick to just using the text of the comment itself.\n",
        "- We should filter out very long comments: initially I've set the limit to 6000 characters, which retains 99.6% of the comments. (We'll revisit this later once we have a tokenizer.)"
      ],
      "metadata": {
        "id": "ZEgOMWBbXw38"
      }
    },
    {
      "cell_type": "code",
      "source": [
        "df_temp = dataframes['comments'].with_columns(pl.col('comment').str.len_chars().alias('comment_length'))\n",
        "len(df_temp.filter(pl.col('comment_length') <= 6000)) / len(df_temp)"
      ],
      "metadata": {
        "colab": {
          "base_uri": "https://localhost:8080/"
        },
        "id": "rD4IUlkgXy93",
        "outputId": "c9bde1ce-a8f6-4b17-e78d-76779e66c730"
      },
      "execution_count": null,
      "outputs": [
        {
          "output_type": "execute_result",
          "data": {
            "text/plain": [
              "0.995788165435338"
            ]
          },
          "metadata": {},
          "execution_count": 34
        }
      ]
    },
    {
      "cell_type": "markdown",
      "source": [
        "- We should also filter out non-English comments. I haven't displayed that in this notebook because running `langdetect` over the entire dataset is pretty slow, but we lose approximately 3000 comments by filtering out anything that `langdetect` identifies as not English.\n",
        "- In terms of preprocessing, there are some obvious choices:\n",
        "  - lowercase everything\n",
        "  - strip out the NEWLINE_TOKENs and TAB_TOKENs\n",
        "  - use a normalization function to replace accented characters to their corresponding non-accented character (this is helpfully built into `scikit-learn`'s text vectorizers)\n",
        "  - strip out punctuation, numbers, and non-standard characters (this is why we stripped out the accented characters first!).\n",
        "- We need some way of consolidating the multiple annotations per sample into one overall label. I've implemented two basic approaches, namely:\n",
        "  - majority vote, breaking ties in favour of the `safe` label.\n",
        "  - binarized average (that is, take the average of the labels and round up everything above some fixed threshold to 1, round everything else down to 0).\n",
        "\n",
        "I've consolidated all of the above into the script `dataset_preparation.py`; please see that file for details! If you want to run it yourself, you may need to edit `config/data_prep.yaml` so that the root directory points to the right place on your system.\n",
        "\n",
        "Note this cell will take several minutes to run, primarily due to running `langdetect`. You'll see progress updates printed out as it runs."
      ],
      "metadata": {
        "id": "xfKXFKnIh0dP"
      }
    },
    {
      "cell_type": "code",
      "source": [
        "!python dataset_preparation.py"
      ],
      "metadata": {
        "colab": {
          "base_uri": "https://localhost:8080/"
        },
        "id": "Turn-J_Ph0GW",
        "outputId": "26627171-65dc-4698-cf73-98be1c8c2879"
      },
      "execution_count": null,
      "outputs": [
        {
          "output_type": "stream",
          "name": "stdout",
          "text": [
            "Processing train split of wikipedia_talk; size 69526\n",
            "Finished processing train split of wikipedia_talk; size 67660\n",
            "Processing dev split of wikipedia_talk; size 23160\n",
            "Finished processing dev split of wikipedia_talk; size 22500\n",
            "Processing test split of wikipedia_talk; size 23178\n",
            "Finished processing test split of wikipedia_talk; size 22591\n"
          ]
        }
      ]
    },
    {
      "cell_type": "markdown",
      "source": [
        "## Checking the label distribution per split\n",
        "\n",
        "Finally, as promised, let's check what the label distribution looks like in each split. For simplicity I've stuck with the \"majority vote\" approach to aggregating annotations."
      ],
      "metadata": {
        "id": "GXjkkaPXu8Kl"
      }
    },
    {
      "cell_type": "code",
      "source": [
        "datasets = {x.stem.split('_')[0]: pl.read_csv(x) for x in data_dir.glob('*withlabels*')}"
      ],
      "metadata": {
        "id": "3-Q2aV8rvCNG"
      },
      "execution_count": null,
      "outputs": []
    },
    {
      "cell_type": "code",
      "source": [
        "for k, df in datasets.items():\n",
        "  print(k)\n",
        "  print(df.group_by(pl.col('attack'), maintain_order=True).len().select([pl.col('attack').alias('label'), (pl.col('len')/len(df)).alias('fraction')]))"
      ],
      "metadata": {
        "colab": {
          "base_uri": "https://localhost:8080/"
        },
        "id": "pRyhTzrawPX0",
        "outputId": "307017c8-ecb5-4478-d4e8-a64f40b21e16"
      },
      "execution_count": null,
      "outputs": [
        {
          "output_type": "stream",
          "name": "stdout",
          "text": [
            "train\n",
            "shape: (2, 2)\n",
            "┌───────┬──────────┐\n",
            "│ label ┆ fraction │\n",
            "│ ---   ┆ ---      │\n",
            "│ i64   ┆ f64      │\n",
            "╞═══════╪══════════╡\n",
            "│ 0     ┆ 0.888546 │\n",
            "│ 1     ┆ 0.111454 │\n",
            "└───────┴──────────┘\n",
            "dev\n",
            "shape: (2, 2)\n",
            "┌───────┬──────────┐\n",
            "│ label ┆ fraction │\n",
            "│ ---   ┆ ---      │\n",
            "│ i64   ┆ f64      │\n",
            "╞═══════╪══════════╡\n",
            "│ 0     ┆ 0.886622 │\n",
            "│ 1     ┆ 0.113378 │\n",
            "└───────┴──────────┘\n",
            "test\n",
            "shape: (2, 2)\n",
            "┌───────┬──────────┐\n",
            "│ label ┆ fraction │\n",
            "│ ---   ┆ ---      │\n",
            "│ i64   ┆ f64      │\n",
            "╞═══════╪══════════╡\n",
            "│ 0     ┆ 0.886503 │\n",
            "│ 1     ┆ 0.113497 │\n",
            "└───────┴──────────┘\n"
          ]
        }
      ]
    },
    {
      "cell_type": "markdown",
      "source": [
        "From this we can see two things:\n",
        "1. The splits each have almost identical label distributions, so we can just use the splits as-given.\n",
        "2. The data is still wildly imbalanced despite the authors' best attempts (in fairness, they got the `unsafe` class from 0.01 to 0.11, not bad!) so we'll have to remember:\n",
        "  - We should evaluate our classifiers using metrics designed for imbalanced datasets.\n",
        "  - A classifier that gets 88% accuracy is performing at random chance levels."
      ],
      "metadata": {
        "id": "b-8Mibgkx4Ft"
      }
    },
    {
      "cell_type": "markdown",
      "source": [
        "# Baseline classifier: Naive Bayes\n",
        "\n",
        "We're trying to apply binary classification to a text dataset: the obvious baseline classifier is a Naive Bayes one.\n",
        "\n",
        "Let's go as simple as possible:\n",
        "- word-based tokenization\n",
        "- vectorize samples using `sklearn`'s `CountVectorizer`, i.e. just count how many occurrences of each word appears in the sample.\n",
        "- `sklearn`'s `ComplementNB` Naive Bayes classifier, since it is particularly well suited for imbalanced datasets."
      ],
      "metadata": {
        "id": "NDX98HjiXzet"
      }
    },
    {
      "cell_type": "code",
      "source": [
        "df_train = datasets['train']\n",
        "df_eval = datasets['dev']"
      ],
      "metadata": {
        "id": "y8Id023B0qob"
      },
      "execution_count": null,
      "outputs": []
    },
    {
      "cell_type": "code",
      "source": [
        "pipeline1 = Pipeline(\n",
        "    [\n",
        "        (\"vect\", CountVectorizer()),\n",
        "        (\"clf\", ComplementNB()),\n",
        "    ]\n",
        ")\n",
        "\n",
        "# utils.df_col_to_list is a simple helper function I wrote to extract a column from a dataframe\n",
        "# and convert it to a list, since I ended up needing to do it a lot for these sklearn classifiers!\n",
        "\n",
        "# training this classifier is as simple as calling pipeline.fit\n",
        "pipeline1 = pipeline1.fit(utils.df_col_to_list(df_train, 'comment_processed'), utils.df_col_to_list(df_train, 'attack'))\n",
        "\n",
        "# and scoring it is as simple as calling pipeline.score\n",
        "# note that this just returns the basic unweighted accuracy; we'll come back to this later!\n",
        "pipeline1.score(utils.df_col_to_list(df_eval, 'comment_processed'), utils.df_col_to_list(df_eval, 'attack'))"
      ],
      "metadata": {
        "colab": {
          "base_uri": "https://localhost:8080/"
        },
        "id": "Qmq3ovDMX3Wq",
        "outputId": "1077a49d-700a-4c05-bec4-94ddc0044fea"
      },
      "execution_count": null,
      "outputs": [
        {
          "output_type": "execute_result",
          "data": {
            "text/plain": [
              "0.9065777777777778"
            ]
          },
          "metadata": {},
          "execution_count": 87
        }
      ]
    },
    {
      "cell_type": "markdown",
      "source": [
        "We can see that on a simple accuracy metric, this classifier is only just doing better than random chance. Unweighted accuracy is obviously not a great choice of metric here due to the imbalanced dataset, and we'll look at other metrics later, but as a coarse first-pass \"is this model working?\" metric it's not bad.\n",
        "\n",
        "Let's try making it a bit more interesting, by introducing a tf-idf vectorizer and considering 2-grams in addition to 1-grams:"
      ],
      "metadata": {
        "id": "hmCOG2T31VS5"
      }
    },
    {
      "cell_type": "code",
      "source": [
        "pipeline2 = Pipeline(\n",
        "    [\n",
        "        (\"vect\", TfidfVectorizer(ngram_range=(1, 2))),\n",
        "        (\"clf\", ComplementNB()),\n",
        "    ]\n",
        ")\n",
        "\n",
        "pipeline2 = pipeline2.fit(utils.df_col_to_list(df_train, 'comment_processed'), utils.df_col_to_list(df_train, 'attack'))\n",
        "pipeline2.score(utils.df_col_to_list(df_eval, 'comment_processed'), utils.df_col_to_list(df_eval, 'attack'))"
      ],
      "metadata": {
        "colab": {
          "base_uri": "https://localhost:8080/"
        },
        "id": "xmBQHKtT1sx8",
        "outputId": "7fc2e028-1f2b-4f30-f165-168648c213cd"
      },
      "execution_count": null,
      "outputs": [
        {
          "output_type": "execute_result",
          "data": {
            "text/plain": [
              "0.9061777777777777"
            ]
          },
          "metadata": {},
          "execution_count": 88
        }
      ]
    },
    {
      "cell_type": "markdown",
      "source": [
        "Not much better! Let's see how it's doing on each label type:"
      ],
      "metadata": {
        "id": "FB2gDvXGGv3t"
      }
    },
    {
      "cell_type": "code",
      "source": [
        "fig, ax = plt.subplots()\n",
        "ConfusionMatrixDisplay.from_estimator(pipeline2, utils.df_col_to_list(df_eval, 'comment_processed'), utils.df_col_to_list(df_eval, 'attack'), normalize='true', ax=ax)\n",
        "ax.set_title('Naive Bayes classifier with TF-IDF vectorizer and unigrams+bigrams')\n",
        "plt.show()"
      ],
      "metadata": {
        "colab": {
          "base_uri": "https://localhost:8080/",
          "height": 472
        },
        "id": "8CzAVbGK15uN",
        "outputId": "5720bcb8-d3ce-4d26-b85e-178158245574"
      },
      "execution_count": null,
      "outputs": [
        {
          "output_type": "display_data",
          "data": {
            "text/plain": [
              "<Figure size 640x480 with 2 Axes>"
            ],
            "image/png": "[encoded data removed]"
          },
          "metadata": {}
        }
      ]
    },
    {
      "cell_type": "markdown",
      "source": [
        "Yep, so what we've built there is a classifier that predicts \"safe\" for almost everything, and the 90%+ accuracy comes from the fact that 88.5% of the dataset is indeed labelled \"safe\".\n",
        "\n",
        "There's a lot more we could try here, e.g.\n",
        "  - stemming or lemmatizing the words (essentially standardizing them, so e.g. \"run\", \"runs\", \"running\" would all be treated as the same word).\n",
        "  - more tuning of the various hyperparameters.\n",
        "  - introduce a stopwords list to remove common words (this is discussed in more detail just below)\n",
        "\n",
        "However I think it's pretty clear that Naive Bayes isn't going to cut it here, so let's move on to the next option.\n",
        "\n",
        "We'll evaluate all of the classifiers more thoroughly with more detailed metrics at the end."
      ],
      "metadata": {
        "id": "PCNrFbmC2MlL"
      }
    },
    {
      "cell_type": "markdown",
      "source": [
        "# Second classifier: logistic regression\n",
        "\n",
        "The next simplest option is logistic regression.\n",
        "\n",
        "We'll stick with the tf-idf vectorization, because it's better at handling common words than a simple counting-based vectorization is. That is to say, the \"idf\" portion of \"tf-idf\" stands for \"inverse document frequency\", and it penalises extremely common words like \"and\", \"the\", etc by downweighting them. This makes sense, as both safe and unsafe comments are equally likely to use these sorts of words so from the classifier's perspective they're just noise!"
      ],
      "metadata": {
        "id": "R6ZjVLfNX4mX"
      }
    },
    {
      "cell_type": "code",
      "source": [
        "# First attempt: simple logistic regression with L2 regularization\n",
        "\n",
        "pipeline3 = Pipeline(\n",
        "    [\n",
        "        (\"vect\", TfidfVectorizer(ngram_range=(1, 2))),\n",
        "        (\"clf\", LogisticRegression(penalty='l2')),\n",
        "    ]\n",
        ")\n",
        "\n",
        "pipeline3 = pipeline3.fit(utils.df_col_to_list(df_train, 'comment_processed'), utils.df_col_to_list(df_train, 'attack'))\n",
        "pipeline3.score(utils.df_col_to_list(df_eval, 'comment_processed'), utils.df_col_to_list(df_eval, 'attack'))"
      ],
      "metadata": {
        "colab": {
          "base_uri": "https://localhost:8080/"
        },
        "id": "EbBqSYM8X7k0",
        "outputId": "42bd7be5-352b-4e1f-ebf7-8a72c7126243"
      },
      "execution_count": null,
      "outputs": [
        {
          "output_type": "execute_result",
          "data": {
            "text/plain": [
              "0.9385333333333333"
            ]
          },
          "metadata": {},
          "execution_count": 95
        }
      ]
    },
    {
      "cell_type": "markdown",
      "source": [
        "That's an improvement!\n",
        "\n",
        "Now let's get fancy: we'll use sklearn's built-in class_weight option to upweight the positive samples, see if that helps mitigate the imbalance. We could specify the weights manually, but the 'balanced' keyword simply weights class labels in inverse proportion to their prevalance and that's a pretty good first strategy to try."
      ],
      "metadata": {
        "id": "XwO0vIjP4X5V"
      }
    },
    {
      "cell_type": "code",
      "source": [
        "# Regression with weighted samples\n",
        "pipeline4 = Pipeline(\n",
        "    [\n",
        "        (\"vect\", TfidfVectorizer()),\n",
        "        (\"clf\", LogisticRegression(penalty='l2', class_weight='balanced')),\n",
        "    ]\n",
        ")\n",
        "\n",
        "pipeline4 = pipeline4.fit(utils.df_col_to_list(df_train, 'comment_processed'), utils.df_col_to_list(df_train, 'attack'))\n",
        "pipeline4.score(utils.df_col_to_list(df_eval, 'comment_processed'), utils.df_col_to_list(df_eval, 'attack'))"
      ],
      "metadata": {
        "colab": {
          "base_uri": "https://localhost:8080/"
        },
        "id": "oPMMbWb93zFW",
        "outputId": "661e05d5-14ca-4338-9b80-ee20d90f15f2"
      },
      "execution_count": null,
      "outputs": [
        {
          "output_type": "execute_result",
          "data": {
            "text/plain": [
              "0.9228888888888889"
            ]
          },
          "metadata": {},
          "execution_count": 132
        }
      ]
    },
    {
      "cell_type": "markdown",
      "source": [
        "Interesting! Let's plot the confusion matrices to see if balancing the class weights had any effect:"
      ],
      "metadata": {
        "id": "biNuIlgd7X1I"
      }
    },
    {
      "cell_type": "code",
      "source": [
        "\n",
        "fig, axes = plt.subplots(ncols=2, figsize=(15,8))\n",
        "ConfusionMatrixDisplay.from_estimator(pipeline3, utils.df_col_to_list(df_eval, 'comment_processed'), utils.df_col_to_list(df_eval, 'attack'), normalize='true', ax=axes[0])\n",
        "axes[0].set_title('Pipeline 3 (no weighting)')\n",
        "\n",
        "ConfusionMatrixDisplay.from_estimator(pipeline4, utils.df_col_to_list(df_eval, 'comment_processed'), utils.df_col_to_list(df_eval, 'attack'), normalize='true', ax=axes[1])\n",
        "axes[1].set_title('Pipeline 4 (balanced weighting)')\n",
        "\n",
        "\n",
        "plt.show()"
      ],
      "metadata": {
        "colab": {
          "base_uri": "https://localhost:8080/",
          "height": 653
        },
        "id": "dsMu72hw7bLr",
        "outputId": "13ad3234-1158-4bf9-96c5-86a8d62add5a"
      },
      "execution_count": null,
      "outputs": [
        {
          "output_type": "display_data",
          "data": {
            "text/plain": [
              "<Figure size 1500x800 with 4 Axes>"
            ],
            "image/png": "[encoded data removed]"
          },
          "metadata": {}
        }
      ]
    },
    {
      "cell_type": "markdown",
      "source": [
        "That's a huge improvement in true positives for the unsafe class, at the cost of a drop in performance on the safe class.\n",
        "\n",
        "We can also compare this to the NB classifier: we've gone from 18% of the \"unsafe\" class being predicted correctly by the NB classifier to 52% on the basic LR classifier, but our overall accuracy only went up by a couple of points! This is a good illustration of why unweighted accuracy should be taken with a large grain of salt on unbalanced datasets.\n",
        "\n",
        "We could continue to play around with tuning the hyperparameters for this (e.g. l1 regression instead of / as well as l2, changing the regularization strength constant `C`, etc; also using `sklearn`'s built-in hyperparameter search and cross validation functions!) but in a world of Transformers, attention, and LLMs I think it's a safe bet that we'll see better results from a Transformer-based embedding than a \"traditional\" ML one.\n",
        "\n",
        "This is partly because Transformers have consistently outperformed other models on basically every text-based task, but also because their attention mechanism allows them to take the _context_ of words into account. Consider the difference between these two sentences:\n",
        "- \"haha I'm such an idiot\"\n",
        "- \"you're an idiot and you're wrong\".\n",
        "\n",
        "A simple classifier might learn that \"idiot\" corresponds to an attack and label both as unsafe, whereas a Transformer-based model is much more likely to identify that the word \"idiot\" is being used in very different contexts in the two sentences."
      ],
      "metadata": {
        "id": "wKYzfEfM7zHX"
      }
    },
    {
      "cell_type": "markdown",
      "source": [
        "# Third classifier: RoBERTa-based neural net\n",
        "\n",
        "As described in the introduction, this is a custom model with a custom training loop, written in JAX/Flax and layering a dense classifier head over a frozen pretrained RoBERTa model.\n",
        "\n",
        "- Why RoBERTa?\n",
        "  - On previous projects I've worked on, we found that RoBERTa provided a good balance between speed and accuracy.\n",
        "  - I considered newer models like OPT but felt they might be overkill for what we need here (we're just using the Transformer model to get embeddings), especially since I don't have the access to plentiful compute that would be required to iterate on such large models. It would be very easy to test this in future though!\n",
        "  - BERT would probably also work well, but RoBERTa is literally just BERT with a few extra bells and whistles to make it more robust.\n",
        "\n",
        "- Why a frozen RoBERTa?\n",
        "  - Compute limitations! As a proof of concept, I went for the simplest option that would work.\n",
        "  - The code is written in such a way to make it very easy to modify which layers are trainable: one could easily finetune the last few layers of RoBERTa in addition to the classifier, or even finetune the entire thing end-to-end.\n",
        "\n",
        "- Why JAX/Flax?\n",
        "  - JAX/Flax is a lovely combination of libraries to work in. They're fast, optimized for multi-GPU and even TPU settings, and the clear separation between model definition and parameters makes it much easier to keep track of what's happening when freezing part of the model and adding in extra layers.\n",
        "\n",
        "The training loop also uses:\n",
        "- a custom TextDataset object subclassed from PyTorch's `torch.utils.data.Dataset`, and a vanilla `torch.utils.data.DataLoader`. This is because JAX/Flax considers dataset handling to be out of scope and expects users to use tensorflow, torch, or huggingface dataset utilities instead.\n",
        "  - I personally despise Tensorflow's dataset and data iterator implementations, because the underlying implementation stores the data in a sequential format which makes it impossible to index into the dataset, you can _only_ iterate through it. This also makes reproducibility a nightmare, because if your training loop crashes and is resumed from the last saved checkpoint, the dataset iterator will always start from the beginning of the dataset again! In a worst case scenario you can end up only ever training on a small portion of your dataset!\n",
        "  - I find HuggingFace's API really annoying to use if I'm doing anything remotely custom: it's too high level and hides too much.\n",
        "  - Thus, PyTorch is the only usable option here.\n",
        "- HuggingFace's implementation of vanilla RoBERTa, the pretrained weights provided by FacebookAI, and HuggingFace's tokenizer.\n",
        "  - In a production environment, I would fork HuggingFace's RoBERTa implementation and remove the dependency on their `transformers` library altogether. That felt like overkill for a 1-week project, however!\n",
        "\n",
        "## Training/eval code\n",
        "You can find the training and eval code in `nn_classifier.py`.\n",
        "\n",
        "The construction of the training loop follows JAX/Flax conventions: that is, one writes minimal `train_step` and `eval_step` functions that can be jit-compiled for speed, wraps them in larger `train` and `evaluation` functions that handle dataset iteration, and keeps track of parameters and other stateful objects in a dedicated object called `TrainState`.\n",
        "\n",
        "Software engineering caveat: I put all of the code for the training loop in one file mostly to make it easier to follow for people who aren't familiar with JAX or with deep learning training loops. As soon as multiple models were involved, I would refactor this into a more modular arrangement!"
      ],
      "metadata": {
        "id": "QcsfVYRhX8Dl"
      }
    },
    {
      "cell_type": "code",
      "source": [
        "# I don't recommend running this cell unless you have access to a GPU.\n",
        "# If you do, make sure you modify `config/train.yaml` so that the script\n",
        "# knows where to find the processed datasets.\n",
        "\n",
        "# If you're sure, you can uncomment the line below and run this cell to\n",
        "# kick off the training run.\n",
        "\n",
        "# !python nn_classifier.py"
      ],
      "metadata": {
        "id": "0AcLiAOYYBx8"
      },
      "execution_count": null,
      "outputs": []
    },
    {
      "cell_type": "markdown",
      "source": [
        "## A note on tokenization\n",
        "\n",
        "As discussed briefly in the dataset exploration section, one thing we have to take into account when working with a language model is the size of the context window -- that is, how many tokens it can accept at one time.\n",
        "\n",
        "This is relevant here because our dataset is only labelled at the sample level (i.e. one safe/unsafe label per item) and if we chunk long comments into multiple samples or even just naively truncate our samples, we risk cutting off the toxic portion of a comment and introducing mislabelled samples into the training set. In a balanced dataset this might not matter, but since the unsafe samples are already underrepresented, introducing some false positives could have a much larger effect on overall performance.\n",
        "\n",
        "RoBERTa's context window is 512 tokens long, and it uses the BPE tokenization scheme which means that tokens correspond to subwords. In other words, there should be a fairly linear relationship between word/character count and token count, but we don't have a direct conversion between words and tokens.\n",
        "\n",
        "To solve this, we can tokenize a subset of the dataset and plot the token length of each sample against the character count, and use this to establish a reasonable cutoff."
      ],
      "metadata": {
        "id": "RFdoG-tYRYHd"
      }
    },
    {
      "cell_type": "code",
      "source": [
        "# import the pretrained RoBERTa tokenizer\n",
        "\n",
        "config = {'params_key': jax.random.PRNGKey(0), 'backbone_hf_str': \"FacebookAI/roberta-base\", 'classifier_head_dims': (2,),}\n",
        "\n",
        "clf = create_roberta_classifier_from_hf(config)\n",
        "tokenizer = clf['tokenizer']"
      ],
      "metadata": {
        "id": "5Au14u4qUrLC"
      },
      "execution_count": null,
      "outputs": []
    },
    {
      "cell_type": "code",
      "source": [
        "# quickly test the tokenizer\n",
        "\n",
        "test_sentence = \"Here is a random sentence about cats.\"\n",
        "tokenizer(test_sentence, padding='longest', truncation=True, max_length=1000)"
      ],
      "metadata": {
        "colab": {
          "base_uri": "https://localhost:8080/"
        },
        "id": "y4gD_egAVWYO",
        "outputId": "667d71fb-2260-44cc-ca23-3f968b58567b"
      },
      "execution_count": null,
      "outputs": [
        {
          "output_type": "execute_result",
          "data": {
            "text/plain": [
              "{'input_ids': Array([[    0, 11773,    16,    10,  9624,  3645,    59, 10017,     4,\n",
              "            2]], dtype=int32), 'attention_mask': Array([[1, 1, 1, 1, 1, 1, 1, 1, 1, 1]], dtype=int32)}"
            ]
          },
          "metadata": {},
          "execution_count": 22
        }
      ]
    },
    {
      "cell_type": "code",
      "source": [
        "tokenizer(test_sentence, padding='longest', truncation=True, max_length=1000)['attention_mask'].sum().item()"
      ],
      "metadata": {
        "colab": {
          "base_uri": "https://localhost:8080/"
        },
        "id": "C5aEiwXvWx1o",
        "outputId": "e5de00f9-f759-4945-f1dd-82986be35961"
      },
      "execution_count": null,
      "outputs": [
        {
          "output_type": "execute_result",
          "data": {
            "text/plain": [
              "10"
            ]
          },
          "metadata": {},
          "execution_count": 24
        }
      ]
    },
    {
      "cell_type": "code",
      "source": [
        "# using the dev dataset to establish the linear relationship\n",
        "# summing the attention mask gives us the number of tokens\n",
        "# this is a terribly slow way to use polars (any call to a python function breaks its multithreading) but it'll do for this ad-hoc calculation\n",
        "\n",
        "tokenizer1 = functools.partial(tokenizer, padding='longest', truncation=True, max_length=1000)\n",
        "df_eval = df_eval.with_columns(pl.col('comment_processed').map_elements(lambda x: tokenizer1(x)['attention_mask'].sum().item(), return_dtype=pl.Int32).alias('token_length'))"
      ],
      "metadata": {
        "id": "meGfFy2jTXGS"
      },
      "execution_count": null,
      "outputs": []
    },
    {
      "cell_type": "code",
      "source": [
        "df_eval.select(pl.col('token_length')).describe()"
      ],
      "metadata": {
        "colab": {
          "base_uri": "https://localhost:8080/",
          "height": 380
        },
        "id": "uzuoYKP1UUIl",
        "outputId": "8f4ac051-2124-43be-8f54-1d53e546ceba"
      },
      "execution_count": null,
      "outputs": [
        {
          "output_type": "execute_result",
          "data": {
            "text/plain": [
              "shape: (9, 2)\n",
              "┌────────────┬──────────────┐\n",
              "│ statistic  ┆ token_length │\n",
              "│ ---        ┆ ---          │\n",
              "│ str        ┆ f64          │\n",
              "╞════════════╪══════════════╡\n",
              "│ count      ┆ 22500.0      │\n",
              "│ null_count ┆ 0.0          │\n",
              "│ mean       ┆ 77.508444    │\n",
              "│ std        ┆ 106.128488   │\n",
              "│ min        ┆ 4.0          │\n",
              "│ 25%        ┆ 22.0         │\n",
              "│ 50%        ┆ 44.0         │\n",
              "│ 75%        ┆ 88.0         │\n",
              "│ max        ┆ 1000.0       │\n",
              "└────────────┴──────────────┘"
            ],
            "text/html": [
              "<div><style>\n",
              ".dataframe > thead > tr,\n",
              ".dataframe > tbody > tr {\n",
              "  text-align: right;\n",
              "  white-space: pre-wrap;\n",
              "}\n",
              "</style>\n",
              "<small>shape: (9, 2)</small><table border=\"1\" class=\"dataframe\"><thead><tr><th>statistic</th><th>token_length</th></tr><tr><td>str</td><td>f64</td></tr></thead><tbody><tr><td>&quot;count&quot;</td><td>22500.0</td></tr><tr><td>&quot;null_count&quot;</td><td>0.0</td></tr><tr><td>&quot;mean&quot;</td><td>77.508444</td></tr><tr><td>&quot;std&quot;</td><td>106.128488</td></tr><tr><td>&quot;min&quot;</td><td>4.0</td></tr><tr><td>&quot;25%&quot;</td><td>22.0</td></tr><tr><td>&quot;50%&quot;</td><td>44.0</td></tr><tr><td>&quot;75%&quot;</td><td>88.0</td></tr><tr><td>&quot;max&quot;</td><td>1000.0</td></tr></tbody></table></div>"
            ]
          },
          "metadata": {},
          "execution_count": 31
        }
      ]
    },
    {
      "cell_type": "markdown",
      "source": [
        "We capped the token length at 1000 for simplicity, but we can see from this that the vast majority fall below 100 tokens.\n",
        "\n",
        "Now we can plot this on a scatterplot to get a sense for the relationship.\n",
        "\n",
        "As we'll see below, something like a kdeplot should be a better choice here because the vast majority of the density is concentrated in the lower left quadrant; however it turns out it's _so_ concentrated that the kdeplot ignores the outliers completely. And since we were doing this to get a sense for where the outliers landed, that's not so useful right now.\n",
        "\n",
        "So here is a scatterplot, and just keep in mind that the density is wildly misrepresented:"
      ],
      "metadata": {
        "id": "fVY8aM5SXrYt"
      }
    },
    {
      "cell_type": "code",
      "source": [
        "# We should get the length of the processed comments, not the raw comments, since it's the processed comments we tokenized\n",
        "df_eval = df_eval.with_columns(pl.col('comment_processed').str.len_chars().alias('comment_processed_char_count'))"
      ],
      "metadata": {
        "id": "ABf1B--sYCWa"
      },
      "execution_count": null,
      "outputs": []
    },
    {
      "cell_type": "code",
      "source": [
        "fig, ax = plt.subplots()\n",
        "sns.scatterplot(x = utils.df_col_to_list(df_eval, 'comment_processed_char_count'), y = utils.df_col_to_list(df_eval, 'token_length'), ax=ax)\n",
        "# sns.kdeplot(x = utils.df_col_to_list(df_eval, 'comment_processed_char_count'), y = utils.df_col_to_list(df_eval, 'token_length'), ax=ax, alpha=0.5, fill=True, levels=10)\n",
        "ax.axhline(y=512, c='k')\n",
        "ax.axvline(x=2500, c='k')\n",
        "ax.set_title('Comment character length vs token length')\n",
        "ax.set_xlabel('Character length')\n",
        "ax.set_ylabel('Token length')\n",
        "plt.show()"
      ],
      "metadata": {
        "colab": {
          "base_uri": "https://localhost:8080/",
          "height": 472
        },
        "id": "KoVARTgNiXo4",
        "outputId": "82e94668-349e-4295-8f85-5c95af361644"
      },
      "execution_count": null,
      "outputs": [
        {
          "output_type": "display_data",
          "data": {
            "text/plain": [
              "<Figure size 640x480 with 1 Axes>"
            ],
            "image/png": "[encoded data removed]"
          },
          "metadata": {}
        }
      ]
    },
    {
      "cell_type": "markdown",
      "source": [
        "The horizontal line corresponds to the 512 token cutoff. If we choose a character length cutoff of 2500 characters (the vertical line) then\n",
        "- datapoints in the lower left quadrant will be handled without issue.\n",
        "- datapoints in the upper left quadrant will be truncated.\n",
        "- datapoints on the right halfplane will be discarded.\n",
        "\n",
        "The graph makes it look like we're losing a lot of data here, but it isn't accurately representing the density in the lower left quadrant:"
      ],
      "metadata": {
        "id": "BmHK1HRLZ1Wr"
      }
    },
    {
      "cell_type": "code",
      "source": [
        "lh = len(df_eval.filter(pl.col('comment_char_count')<=2500))\n",
        "rh = len(df_eval.filter(pl.col('comment_char_count')>2500))\n",
        "\n",
        "print(f\"There are {lh} comments in the left halfplane\")\n",
        "print(f\"There are {rh} comments in the right halfplane\")\n",
        "print(f\"We can expect to lose approximately {rh/len(df_eval):.2%} of comments if we discard comments longer than 2500 characters.\")"
      ],
      "metadata": {
        "colab": {
          "base_uri": "https://localhost:8080/"
        },
        "id": "xaPxo5SdaaiY",
        "outputId": "25c79b05-0e4f-4d3a-841d-d14fb6d71b9c"
      },
      "execution_count": null,
      "outputs": [
        {
          "output_type": "stream",
          "name": "stdout",
          "text": [
            "There are 22109 comments in the left halfplane\n",
            "There are 391 comments in the right halfplane\n",
            "We can expect to lose approximately 1.74% of comments if we discard comments longer than 2500 characters.\n"
          ]
        }
      ]
    },
    {
      "cell_type": "markdown",
      "source": [
        "Conclusion: 2500 characters seems like a reasonable cutoff!"
      ],
      "metadata": {
        "id": "i1H4dBqfaqq9"
      }
    },
    {
      "cell_type": "markdown",
      "source": [
        "## Inference\n",
        "\n",
        "Finally, let's load a saved model and play around with some inference."
      ],
      "metadata": {
        "id": "KuAzXjg_bbAw"
      }
    },
    {
      "cell_type": "code",
      "source": [
        "## TODO"
      ],
      "metadata": {
        "id": "bi6Qgj06JPP8"
      },
      "execution_count": null,
      "outputs": []
    },
    {
      "cell_type": "markdown",
      "source": [
        "# Evaluation\n",
        "\n",
        "We will compare three models:\n",
        "- Naive Bayes (`pipeline1`)\n",
        "- Logistic regression (`pipeline4`)\n",
        "- RoBERTa-based neural net\n",
        "\n",
        "We saw above that a simple accuracy score isn't very useful on an imbalanced dataset. Instead, let's look at:\n",
        "- weighted accuracy\n",
        "- precision, recall, F1\n",
        "- ROC-AUC\n",
        "\n",
        "For weighted accuracy, we'll use `sklearn`'s `balanced_accuracy_score`, which computes the average of recall scores across each class and is equivalent to weighting each class by its inverse frequency. (This is the definition of weighting we used in training the RoBERTa classifier too.)\n",
        "\n",
        "The original dataset paper also trained various classifiers to achieve this task. For reference, their best model achieved an AUC score of 96.59, although with the caveat that this was computed on the `dev` split, not the `test` split as we're computing here."
      ],
      "metadata": {
        "id": "XGV_B7jvYCoG"
      }
    },
    {
      "cell_type": "code",
      "source": [
        "# this is the test split of the original dataset; it has been processed using the\n",
        "# same techniques as the others, but we have not examined it and our models have\n",
        "# not seen it yet.\n",
        "\n",
        "df_test = datasets['test']"
      ],
      "metadata": {
        "id": "vu1-GnciOHji"
      },
      "execution_count": null,
      "outputs": []
    },
    {
      "cell_type": "code",
      "source": [
        "inputs = utils.df_col_to_list(df_test, 'comment_processed')\n",
        "labels = utils.df_col_to_list(df_test, 'attack')"
      ],
      "metadata": {
        "id": "2haJr1rBOJHA"
      },
      "execution_count": null,
      "outputs": []
    },
    {
      "cell_type": "code",
      "source": [
        "## TODO: add in the RoBERTa model once it is trained\n",
        "\n",
        "models = {'naive_bayes': pipeline1, 'regression': pipeline4}\n",
        "metrics = {\n",
        "    \"accuracy\": accuracy_score,\n",
        "    \"weighted_accuracy\": balanced_accuracy_score,\n",
        "    \"precision\": precision_score,\n",
        "    \"recall\": recall_score,\n",
        "    \"f1\": f1_score,\n",
        "    \"roc_auc\": roc_auc_score,\n",
        "}\n",
        "\n",
        "\n",
        "all_scores = []\n",
        "for m in models:\n",
        "  result = {'model': m}\n",
        "  for n in metrics:\n",
        "    if n == 'roc_auc':\n",
        "      preds = models[m].predict_proba(inputs)[:, -1]  # expects the probs for the class with the larger label\n",
        "    else:\n",
        "      preds = models[m].predict(inputs)\n",
        "    score = metrics[n](labels, preds)\n",
        "    result[n] = score\n",
        "  all_scores.append(result)"
      ],
      "metadata": {
        "id": "L5Gx0YZNYDMf"
      },
      "execution_count": null,
      "outputs": []
    },
    {
      "cell_type": "code",
      "source": [
        "pl.DataFrame(all_scores)"
      ],
      "metadata": {
        "colab": {
          "base_uri": "https://localhost:8080/",
          "height": 161
        },
        "id": "0W3ZMoRIPNAQ",
        "outputId": "4769b4c5-f167-45c4-ecdc-3237b6d069b4"
      },
      "execution_count": null,
      "outputs": [
        {
          "output_type": "execute_result",
          "data": {
            "text/plain": [
              "shape: (2, 7)\n",
              "┌─────────────┬──────────┬───────────────────┬───────────┬──────────┬──────────┬──────────┐\n",
              "│ model       ┆ accuracy ┆ weighted_accuracy ┆ precision ┆ recall   ┆ f1       ┆ roc_auc  │\n",
              "│ ---         ┆ ---      ┆ ---               ┆ ---       ┆ ---      ┆ ---      ┆ ---      │\n",
              "│ str         ┆ f64      ┆ f64               ┆ f64       ┆ f64      ┆ f64      ┆ f64      │\n",
              "╞═════════════╪══════════╪═══════════════════╪═══════════╪══════════╪══════════╪══════════╡\n",
              "│ naive_bayes ┆ 0.908548 ┆ 0.831771          ┆ 0.576427  ┆ 0.732449 ┆ 0.645139 ┆ 0.884869 │\n",
              "│ regression  ┆ 0.926254 ┆ 0.877126          ┆ 0.637141  ┆ 0.813573 ┆ 0.714628 ┆ 0.95798  │\n",
              "└─────────────┴──────────┴───────────────────┴───────────┴──────────┴──────────┴──────────┘"
            ],
            "text/html": [
              "<div><style>\n",
              ".dataframe > thead > tr,\n",
              ".dataframe > tbody > tr {\n",
              "  text-align: right;\n",
              "  white-space: pre-wrap;\n",
              "}\n",
              "</style>\n",
              "<small>shape: (2, 7)</small><table border=\"1\" class=\"dataframe\"><thead><tr><th>model</th><th>accuracy</th><th>weighted_accuracy</th><th>precision</th><th>recall</th><th>f1</th><th>roc_auc</th></tr><tr><td>str</td><td>f64</td><td>f64</td><td>f64</td><td>f64</td><td>f64</td><td>f64</td></tr></thead><tbody><tr><td>&quot;naive_bayes&quot;</td><td>0.908548</td><td>0.831771</td><td>0.576427</td><td>0.732449</td><td>0.645139</td><td>0.884869</td></tr><tr><td>&quot;regression&quot;</td><td>0.926254</td><td>0.877126</td><td>0.637141</td><td>0.813573</td><td>0.714628</td><td>0.95798</td></tr></tbody></table></div>"
            ]
          },
          "metadata": {},
          "execution_count": 129
        }
      ]
    },
    {
      "cell_type": "markdown",
      "source": [
        "##  Definitions\n",
        "\n",
        "- Weighted accuracy:\n",
        "  - This weights the positive and negative classes by the inverse proportion of their frequency in the dataset. That is, in this setting it downweights the contribution of the negative examples to the overall accuracy score, to cancel out the fact that there is so many more of them than the positive examples.\n",
        "- Precision:\n",
        "  - Precision is, informally, the proportion of relevant instances amongst the examples that the model predicted to be positive: that is, if the regression model identified 100 examples that it thought were positive (i.e. unsafe), you'd expect approximately 64 of them to be actually unsafe and the rest to be false positives.\n",
        "  - You would value precision over recall if you were particularly concerned about false positives, i.e. needed to be pretty sure that the model would rarely label a safe example as unsafe.\n",
        "  - The precision score depends on the ratio of positive/negative classes in the dataset, so it is unsurprising that the precision is so low here when the classes are unbalanced.\n",
        "- Recall:\n",
        "  - Recall, is, informally, the proportion of positive instances that were correctly predicted: that is, if you gave the regression model 100 \"unsafe\" examples, you'd expect it to accurately label approximately 81 of them.\n",
        "  - You would value recall over precision if you were particularly concerned about false negatives, i.e. needed to be sure that the model would rarely mislabel an unsafe example as safe.\n",
        "  - Recall does not depend explicitly on the positive/negative class imbalance, because the denominator is just the number of samples in the positive class. However, bear in mind that this means the recall is computed using only a small subset of the dataset in this case!\n",
        "- F1 score:\n",
        "  - This is the harmonic mean of precision and recall. It's a useful way of consolidating both precision and recall into one balanced number.\n",
        "- ROC-AUC:\n",
        "  - Informally, the ROC-AUC represents the probability that, given a positive example and a negative example, the model will rank the positive example higher than the negative example.\n",
        "  - That is, if you gave the regression model a positive example and a negative example, there's a 95.7% chance that it'll give the positive (unsafe) example a higher score than the negative (safe) example.\n",
        "\n",
        "## Conclusions\n",
        "\n",
        "We can immediately see that:\n",
        "- Regression performed better than Naive Bayes on literally every measure.\n",
        "- Our fairly untuned regression model hit 0.958 on AUC, which is really not far from the original paper's 0.966!\n",
        "- Unweighted accuracy is hiding the lower performance on the positive class in both cases; I've included it here just for comparison.\n",
        "- Neither of these classifiers are remotely ready for deployment: precision and recall are both pretty low, which means we're seeing lots of false positives and false negatives, and the weighted accuracy of the regression classifier is still only 87%: not great!\n",
        "- The AUC score of the regression classifier isn't bad: it can at least say \"this example is probably more unsafe than that one\" pretty reliably, so it has learned _something_ from the dataset. It just hasn't learned a uniform threshold yet.\n",
        "\n",
        "\n"
      ],
      "metadata": {
        "id": "Xk1X3QAtIEg3"
      }
    },
    {
      "cell_type": "code",
      "source": [],
      "metadata": {
        "id": "VlsJA_b4P_M3"
      },
      "execution_count": null,
      "outputs": []
    }
  ]
}